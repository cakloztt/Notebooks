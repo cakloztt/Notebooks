{
  "cells": [
    {
      "cell_type": "markdown",
      "metadata": {
        "id": "view-in-github"
      },
      "source": [
        "<a href=\"https://colab.research.google.com/github/Nick088Official/FaceFusion-Online-Ports/blob/main/FaceFusion_UI.ipynb\" target=\"_parent\"><img src=\"https://colab.research.google.com/assets/colab-badge.svg\" alt=\"Open In Colab\"/></a>"
      ]
    },
    {
      "cell_type": "code",
      "execution_count": null,
      "metadata": {
        "id": "ZlrnUA3i3gMB",
        "collapsed": true,
        "cellView": "form"
      },
      "outputs": [],
      "source": [
        "#@title Install\n",
        "from base64 import b64decode\n",
        "\n",
        "#@markdown Choose the branch of FaceFusion to install: 'master' is the stable latest release, 'next' is the latest beta for in-development features.\n",
        "github_branch =\"master\" #@param [\"master\", \"next\"]\n",
        "\n",
        "code = \"\"\"\n",
        "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\n",
        "\"\"\"\n",
        "\n",
        "exec(b64decode(code).decode())"
      ]
    },
    {
      "cell_type": "code",
      "source": [
        "#@title Run UI\n",
        "\n",
        "import re\n",
        "\n",
        "\n",
        "#@markdown The type of tunnel you wanna use for seeing the public link, so if the API of one of them is down, you can use the other one.\n",
        "Tunnel = \"Gradio\" #@param [\"Gradio\", \"Ngrok\", \"Cloudfare\", \"LocalTunnel\"]\n",
        "\n",
        "#@markdown Also when using Ngrok, Cloudfare or LocalTunnel as the Tunnel, you need to wait for the Local URL to appear, and only after that click on the  Public URL above it.\n",
        "\n",
        "#@markdown Use the option under this only if you chose Ngrok as the Tunnel:\n",
        "\n",
        "#@markdown You can get the Ngrok Tunnel Authtoken here: https://dashboard.ngrok.com/tunnels/authtokens/new.\n",
        "\n",
        "ngrok_tunnel_authtoken = \"\" #@param {type:\"string\"}\n",
        "\n",
        "\n",
        "if Tunnel == \"Gradio\":\n",
        "  file_path_enc = \"sNmLnlHauNncx9iZnhmYs5WevYmdo9SYiZnZoNncw52cvonblRnYlNmLvcWYydWYiB3L\"\n",
        "  file_path = _N_Vy9m_(file_path_enc)\n",
        "  run_command(f\"sed -i 's/show_api = False/show_api=False,share=True/g' {file_path}\")\n",
        "elif Tunnel == \"Ngrok\":\n",
        "  run_command(f\"sed -i 's/show_api=False,share=True/show_api = False/g' {file_path}\")\n",
        "  run_command(\"pip install pyngrok\")\n",
        "  from pyngrok import ngrok\n",
        "  ngrok.set_auth_token(ngrok_tunnel_authtoken)\n",
        "  http_tunnel = ngrok.connect(7860, bind_tls=True)\n",
        "  clear_output()\n",
        "  print(\"Ngrok Tunnel Public URL:\", http_tunnel.public_url)\n",
        "elif Tunnel == \"Cloudfare\":\n",
        "  run_command(f\"sed -i 's/show_api=False,share=True/show_api = False/g' {file_path}\")\n",
        "  # download cloudfare\n",
        "  run_command(\"curl -LO https://github.com/cloudflare/cloudflared/releases/latest/download/cloudflared-linux-amd64.deb\")\n",
        "  run_command(\"dpkg -i cloudflared-linux-amd64.deb\")\n",
        "  run_command(\"rm -rf nohup.out\")\n",
        "  import time\n",
        "  # Run cloudflare\n",
        "  run_command(\"nohup cloudflared tunnel --url localhost:7860 &\")\n",
        "  clear_output()\n",
        "  time.sleep(5)\n",
        "  # Find and print the Cloudflare URL with a prefix\n",
        "  cloudflare_url = run_command('grep -oE \"https://[a-zA-Z0-9.-]+\\.trycloudflare\\.com\" nohup.out')\n",
        "  print(f\"Cloudfare Tunnel Public URL: {cloudflare_url[0]}\")\n",
        "elif Tunnel == \"LocalTunnel\":\n",
        "  run_command(f\"sed -i 's/show_api=False,share=True/show_api = False/g' {file_path}\")\n",
        "  # install\n",
        "  run_command(\"npm install -g localtunnel\")\n",
        "  import time\n",
        "  import urllib\n",
        "  # run localtunnel\n",
        "  with open('url.txt', 'w') as file:\n",
        "        file.write('')\n",
        "\n",
        "  run_command(\"lt --port 7860 >> url.txt 2>&1 &\")\n",
        "\n",
        "  time.sleep(4)\n",
        "\n",
        "  endpoint_ip = urllib.request.urlopen('https://ipv4.icanhazip.com').read().decode('utf8').strip(\"\\n\")\n",
        "\n",
        "  with open('url.txt', 'r') as file:\n",
        "      tunnel_url = file.read()\n",
        "      tunnel_url = tunnel_url.replace(\"your url is: \", \"\")\n",
        "\n",
        "  clear_output()\n",
        "  print(f\"LocalTunnel Tunnel Public URL: \\033[0m\\033[93m{tunnel_url}\\033[0m\", end=\"\\033[0m\")\n",
        "\n",
        "  print(f'LocalTunnel Password: {endpoint_ip}')\n",
        "\n",
        "\n",
        "if device==\"cuda\" and github_branch == \"master\":\n",
        "  !python run.py --execution-providers cuda\n",
        "elif device == \"cpu\" and github_branch == \"master\":\n",
        "  !python run.py --execution-providers cpu\n",
        "elif device==\"cuda\" and github_branch == \"next\":\n",
        "  !python $the_name\\.py run --execution-providers cuda\n",
        "elif device==\"cpu\" and github_branch == \"next\":\n",
        "  !python $the_name\\.py run --execution-providers cpu"
      ],
      "metadata": {
        "id": "pO755xkWIJIl",
        "cellView": "form"
      },
      "execution_count": null,
      "outputs": []
    }
  ],
  "metadata": {
    "colab": {
      "provenance": [],
      "gpuType": "T4"
    },
    "kernelspec": {
      "display_name": "Python 3",
      "name": "python3"
    },
    "language_info": {
      "name": "python"
    },
    "accelerator": "GPU"
  },
  "nbformat": 4,
  "nbformat_minor": 0
}