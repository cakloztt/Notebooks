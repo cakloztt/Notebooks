{
  "cells": [
    {
      "cell_type": "markdown",
      "metadata": {
        "id": "view-in-github"
      },
      "source": [
        "<a href=\"https://colab.research.google.com/github/Nick088Official/FaceFusion-Online-Ports/blob/main/FaceFusion_UI.ipynb\" target=\"_parent\"><img src=\"https://colab.research.google.com/assets/colab-badge.svg\" alt=\"Open In Colab\"/></a>"
      ]
    },
    {
      "cell_type": "code",
      "execution_count": null,
      "metadata": {
        "id": "ZlrnUA3i3gMB",
        "collapsed": true,
        "cellView": "form"
      },
      "outputs": [],
      "source": [
        "#@title Install\n",
        "from base64 import b64decode\n",
        "\n",
        "#@markdown Choose the branch of FaceFusion to install: 'master' is the stable latest release, 'next' is the latest beta for in-development features.\n",
        "github_branch =\"master\" #@param [\"master\", \"next\"]\n",
        "\n",
        "code = \"\"\"\n",
        "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\n",
        "\"\"\"\n",
        "\n",
        "exec(b64decode(code).decode())"
      ]
    },
    {
      "cell_type": "code",
      "source": [
        "#@title Run UI\n",
        "\n",
        "import re\n",
        "\n",
        "\n",
        "#@markdown The type of tunnel you wanna use for seeing the public link, so if the API of one of them is down, you can use the other one.\n",
        "Tunnel = \"Gradio\" #@param [\"Gradio\", \"Ngrok\", \"Cloudfare\", \"LocalTunnel\"]\n",
        "\n",
        "#@markdown Also when using Ngrok, Cloudfare or LocalTunnel as the Tunnel, you need to wait for the Local URL to appear, and only after that click on the  Public URL above it.\n",
        "\n",
        "#@markdown Use the option under this only if you chose Ngrok as the Tunnel:\n",
        "\n",
        "#@markdown You can get the Ngrok Tunnel Authtoken here: https://dashboard.ngrok.com/tunnels/authtokens/new.\n",
        "\n",
        "ngrok_tunnel_authtoken = \"\" #@param {type:\"string\"}\n",
        "\n",
        "\n",
        "if Tunnel == \"Gradio\":\n",
        "  file_path_enc = \"sNmLnlHauNncx9iZnhmYs5WevYmdo9SYiZnZoNncw52cvonblRnYlNmLvcWYydWYiB3L\"\n",
        "  file_path = _N_Vy9m_(file_path_enc)\n",
        "  run_command(f\"sed -i 's/show_api = False/show_api=False,share=True/g' {file_path}\")\n",
        "elif Tunnel == \"Ngrok\":\n",
        "  run_command(f\"sed -i 's/show_api=False,share=True/show_api = False/g' {file_path}\")\n",
        "  run_command(\"pip install pyngrok\")\n",
        "  from pyngrok import ngrok\n",
        "  ngrok.set_auth_token(ngrok_tunnel_authtoken)\n",
        "  http_tunnel = ngrok.connect(7860, bind_tls=True)\n",
        "  clear_output()\n",
        "  print(\"Ngrok Tunnel Public URL:\", http_tunnel.public_url)\n",
        "elif Tunnel == \"Cloudfare\":\n",
        "  run_command(f\"sed -i 's/show_api=False,share=True/show_api = False/g' {file_path}\")\n",
        "  # download cloudfare\n",
        "  run_command(\"curl -LO https://github.com/cloudflare/cloudflared/releases/latest/download/cloudflared-linux-amd64.deb\")\n",
        "  run_command(\"dpkg -i cloudflared-linux-amd64.deb\")\n",
        "  run_command(\"rm -rf nohup.out\")\n",
        "  import time\n",
        "  # Run cloudflare\n",
        "  run_command(\"nohup cloudflared tunnel --url localhost:7860 &\")\n",
        "  clear_output()\n",
        "  time.sleep(5)\n",
        "  # Find and print the Cloudflare URL with a prefix\n",
        "  cloudflare_url = run_command('grep -oE \"https://[a-zA-Z0-9.-]+\\.trycloudflare\\.com\" nohup.out')\n",
        "  print(f\"Cloudfare Tunnel Public URL: {cloudflare_url[0]}\")\n",
        "elif Tunnel == \"LocalTunnel\":\n",
        "  run_command(f\"sed -i 's/show_api=False,share=True/show_api = False/g' {file_path}\")\n",
        "  # install\n",
        "  run_command(\"npm install -g localtunnel\")\n",
        "  import time\n",
        "  import urllib\n",
        "  # run localtunnel\n",
        "  with open('url.txt', 'w') as file:\n",
        "        file.write('')\n",
        "\n",
        "  run_command(\"lt --port 7860 >> url.txt 2>&1 &\")\n",
        "\n",
        "  time.sleep(4)\n",
        "\n",
        "  endpoint_ip = urllib.request.urlopen('https://ipv4.icanhazip.com').read().decode('utf8').strip(\"\\n\")\n",
        "\n",
        "  with open('url.txt', 'r') as file:\n",
        "      tunnel_url = file.read()\n",
        "      tunnel_url = tunnel_url.replace(\"your url is: \", \"\")\n",
        "\n",
        "  clear_output()\n",
        "  print(f\"LocalTunnel Tunnel Public URL: \\033[0m\\033[93m{tunnel_url}\\033[0m\", end=\"\\033[0m\")\n",
        "\n",
        "  print(f'LocalTunnel Password: {endpoint_ip}')\n",
        "\n",
        "\n",
        "if device==\"cuda\" and github_branch == \"master\":\n",
        "  !python run.py --execution-providers cuda\n",
        "elif device == \"cpu\" and github_branch == \"master\":\n",
        "  !python run.py --execution-providers cpu\n",
        "elif device==\"cuda\" and github_branch == \"next\":\n",
        "  !python $the_name\\.py run --execution-providers cuda\n",
        "elif device==\"cpu\" and github_branch == \"next\":\n",
        "  !python $the_name\\.py run --execution-providers cpu"
      ],
      "metadata": {
        "id": "pO755xkWIJIl",
        "cellView": "form"
      },
      "execution_count": null,
      "outputs": []
    }
  ],
  "metadata": {
    "colab": {
      "provenance": [],
      "gpuType": "T4"
    },
    "kernelspec": {
      "display_name": "Python 3",
      "name": "python3"
    },
    "language_info": {
      "name": "python"
    },
    "accelerator": "GPU"
  },
  "nbformat": 4,
  "nbformat_minor": 0
}
