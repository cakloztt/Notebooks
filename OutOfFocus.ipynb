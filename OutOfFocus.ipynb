{
  "nbformat": 4,
  "nbformat_minor": 0,
  "metadata": {
    "colab": {
      "provenance": [],
      "gpuType": "T4"
    },
    "kernelspec": {
      "name": "python3",
      "display_name": "Python 3"
    },
    "language_info": {
      "name": "python"
    },
    "accelerator": "GPU"
  },
  "cells": [
    {
      "cell_type": "code",
      "source": [
        "%cd /content/\n",
        "!git clone https://github.com/OutofAi/OutofFocus\n",
        "%cd OutofFocus\n",
        "!pip install -r requirements.txt\n",
        "!python app.py --share"
      ],
      "metadata": {
        "id": "PbZ4HdiIN7ld"
      },
      "execution_count": null,
      "outputs": []
    }
  ]
}