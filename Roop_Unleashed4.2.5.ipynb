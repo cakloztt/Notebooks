{
  "nbformat": 4,
  "nbformat_minor": 0,
  "metadata": {
    "colab": {
      "provenance": [],
      "gpuType": "T4",
      "collapsed_sections": [
        "UdQ1VHdI8lCf"
      ]
    },
    "kernelspec": {
      "name": "python3",
      "display_name": "Python 3"
    },
    "language_info": {
      "name": "python"
    },
    "accelerator": "GPU"
  },
  "cells": [
    {
      "cell_type": "markdown",
      "source": [
        "Install CUDA V11.8 on Google Cloud Compute"
      ],
      "metadata": {
        "id": "CanIXgLJgaOj"
      }
    },
    {
      "cell_type": "code",
      "source": [
        "!apt-get update\n",
        "!apt-get install cuda-toolkit-11-8\n",
        "import os\n",
        "os.environ[\"LD_LIBRARY_PATH\"] += \":\" + \"/usr/local/cuda-11/lib64\"\n",
        "os.environ[\"LD_LIBRARY_PATH\"] += \":\" + \"/usr/local/cuda-11.8/lib64\""
      ],
      "metadata": {
        "id": "96GE4UgYg3Ej"
      },
      "execution_count": null,
      "outputs": []
    },
    {
      "cell_type": "markdown",
      "source": [
        "Installing & preparing requirements"
      ],
      "metadata": {
        "id": "0ZYRNb0AWLLW"
      }
    },
    {
      "cell_type": "code",
      "source": [
        "import codecs\n",
        "\n",
        "giturl = codecs.decode('uggcf://tvguho.pbz/P0hagSyblq/ebbc-hayrnfurq.tvg','rot_13')\n",
        "gitdir = codecs.decode('ebbc-hayrnfurq','rot_13')\n",
        "\n",
        "!git clone {giturl}\n",
        "%cd /content/{gitdir}\n",
        "!mv config_colab.yaml config.yaml\n",
        "!pip install -r requirements.txt\n"
      ],
      "metadata": {
        "id": "jtxXFUoC3orX"
      },
      "execution_count": null,
      "outputs": []
    },
    {
      "cell_type": "markdown",
      "source": [
        ":Running roop-unleashed with Gradio"
      ],
      "metadata": {
        "id": "u_4JQiSlV9Fi"
      }
    },
    {
      "cell_type": "code",
      "source": [
        "!python run.py"
      ],
      "metadata": {
        "id": "ORmiFOwL3tDu"
      },
      "execution_count": null,
      "outputs": []
    },
    {
      "cell_type": "markdown",
      "source": [],
      "metadata": {
        "id": "MrcoL5Qzqkee"
      }
    },
    {
      "cell_type": "markdown",
      "source": [
        "# Run With Local Tunnel"
      ],
      "metadata": {
        "id": "OWt8tq7CqRO_"
      }
    },
    {
      "cell_type": "code",
      "source": [
        "\n",
        "!npm install -g localtunnel\n",
        "!pip install colorama\n",
        "import subprocess\n",
        "import threading\n",
        "import time\n",
        "import socket\n",
        "import urllib.request\n",
        "def iframe_thread(port):\n",
        "    while True:\n",
        "        time.sleep(0.5)\n",
        "        sock= socket.socket(socket.AF_INET, socket.SOCK_STREAM)\n",
        "        result = sock.connect_ex(('127.0.0.1', port))\n",
        "        if result == 0:\n",
        "            break\n",
        "        sock.close()\n",
        "\n",
        "        from colorama import Fore, Style\n",
        "    print (Fore.GREEN + \"\\nIP: \", Fore. RED, urllib.request.urlopen('https://ipv4.icanhazip.com').read().decode('utf8').strip(\"\\n\"), \"\\n\", Style. RESET_ALL)\n",
        "    p = subprocess.Popen([\"lt\", \"--port\", \"{}\".format(port)], stdout=subprocess.PIPE)\n",
        "    for line in p.stdout:\n",
        "        print(line.decode(), end='')\n",
        "threading.Thread (target=iframe_thread, daemon=True, args=(7860,)).start()\n",
        "\n",
        "\n",
        "\n",
        "\n",
        "!python run.py"
      ],
      "metadata": {
        "id": "cGqQtGUPp6-3"
      },
      "execution_count": null,
      "outputs": []
    }
  ]
}